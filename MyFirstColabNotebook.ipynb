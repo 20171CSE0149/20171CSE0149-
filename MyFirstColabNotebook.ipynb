{
  "nbformat": 4,
  "nbformat_minor": 0,
  "metadata": {
    "colab": {
      "name": "MyFirstColabNotebook.ipynb",
      "provenance": [],
      "collapsed_sections": [],
      "authorship_tag": "ABX9TyMUkpT+S01uIGWdJ8+4vu8W",
      "include_colab_link": true
    },
    "kernelspec": {
      "name": "python3",
      "display_name": "Python 3"
    }
  },
  "cells": [
    {
      "cell_type": "markdown",
      "metadata": {
        "id": "view-in-github",
        "colab_type": "text"
      },
      "source": [
        "<a href=\"https://colab.research.google.com/github/20171CSE0149/20171CSE0149-/blob/master/MyFirstColabNotebook.ipynb\" target=\"_parent\"><img src=\"https://colab.research.google.com/assets/colab-badge.svg\" alt=\"Open In Colab\"/></a>"
      ]
    },
    {
      "cell_type": "code",
      "metadata": {
        "id": "izJAhFnPhDKj",
        "colab_type": "code",
        "colab": {
          "base_uri": "https://localhost:8080/",
          "height": 34
        },
        "outputId": "daefecd8-9fbb-40b2-f5af-023cd8ef16ff"
      },
      "source": [
        "import time\n",
        "print(time.ctime())"
      ],
      "execution_count": 4,
      "outputs": [
        {
          "output_type": "stream",
          "text": [
            "Tue Sep  8 07:08:06 2020\n"
          ],
          "name": "stdout"
        }
      ]
    },
    {
      "cell_type": "code",
      "metadata": {
        "id": "2LTSN_KEiKiV",
        "colab_type": "code",
        "colab": {
          "base_uri": "https://localhost:8080/",
          "height": 34
        },
        "outputId": "a5d81b42-9afa-4e0e-8df0-a96372804567"
      },
      "source": [
        "time.sleep(5)\n",
        "print(time.ctime())"
      ],
      "execution_count": 5,
      "outputs": [
        {
          "output_type": "stream",
          "text": [
            "Tue Sep  8 07:08:11 2020\n"
          ],
          "name": "stdout"
        }
      ]
    },
    {
      "cell_type": "markdown",
      "metadata": {
        "id": "DwET2aMyjdcQ",
        "colab_type": "text"
      },
      "source": [
        "This is my first colab experience\n"
      ]
    },
    {
      "cell_type": "markdown",
      "metadata": {
        "id": "UWcM_O0PjoCX",
        "colab_type": "text"
      },
      "source": [
        "**\"this is first coolab experience\"**"
      ]
    },
    {
      "cell_type": "markdown",
      "metadata": {
        "id": "VXOVE3K2kKwo",
        "colab_type": "text"
      },
      "source": [
        "*This is my first coolab *"
      ]
    }
  ]
}